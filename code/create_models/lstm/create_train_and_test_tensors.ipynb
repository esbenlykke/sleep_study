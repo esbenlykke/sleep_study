{
 "cells": [
  {
   "cell_type": "code",
   "execution_count": 2,
   "metadata": {},
   "outputs": [],
   "source": [
    "import pyarrow.parquet as pq\n",
    "import pandas as pd"
   ]
  },
  {
   "cell_type": "code",
   "execution_count": 3,
   "metadata": {},
   "outputs": [
    {
     "name": "stdout",
     "output_type": "stream",
     "text": [
      "(1227506, 72)\n"
     ]
    }
   ],
   "source": [
    "test = pq.read_table(\"/home/esbenlykke/projects/sleep_study/data/data_for_modelling/chained_classifiers/30_sec_testing_data.parquet\")\n",
    "test = test.to_pandas()\n",
    "print(test.shape)"
   ]
  },
  {
   "cell_type": "code",
   "execution_count": 12,
   "metadata": {},
   "outputs": [
    {
     "name": "stdout",
     "output_type": "stream",
     "text": [
      "Index(['id', 'noon_day', 'month', 'datetime', 'day', 'unix_time', 'age',\n",
      "       'incl', 'theta', 'x', 'y', 'z', 'temp', 'x_mean', 'x_sd', 'y_mean',\n",
      "       'y_sd', 'z_mean', 'z_sd', 'temp_mean', 'temp_sd', 'sd_max',\n",
      "       'clock_proxy_cos', 'clock_proxy_linear', 'clock_group', 'x_sd_long',\n",
      "       'y_sd_long', 'z_sd_long', 'incl_lag_1min', 'incl_lag_5min',\n",
      "       'incl_lag_30min', 'incl_lead_1min', 'incl_lead_5min', 'incl_lead_30min',\n",
      "       'theta_lag_1min', 'theta_lag_5min', 'theta_lag_30min',\n",
      "       'theta_lead_1min', 'theta_lead_5min', 'theta_lead_30min',\n",
      "       'temp_mean_lag_1min', 'temp_mean_lag_5min', 'temp_mean_lag_30min',\n",
      "       'temp_mean_lead_1min', 'temp_mean_lead_5min', 'temp_mean_lead_30min',\n",
      "       'x_sd_lag_1min', 'x_sd_lag_5min', 'x_sd_lag_30min', 'x_sd_lead_1min',\n",
      "       'x_sd_lead_5min', 'x_sd_lead_30min', 'y_sd_lag_1min', 'y_sd_lag_5min',\n",
      "       'y_sd_lag_30min', 'y_sd_lead_1min', 'y_sd_lead_5min', 'y_sd_lead_30min',\n",
      "       'z_sd_lag_1min', 'z_sd_lag_5min', 'z_sd_lag_30min', 'z_sd_lead_1min',\n",
      "       'z_sd_lead_5min', 'z_sd_lead_30min', 'time_day', 'weekday'],\n",
      "      dtype='object')\n"
     ]
    }
   ],
   "source": [
    "test_labels = test['score']\n",
    "test_predictors = test.drop(['score', 'in_bed', 'in_bed_median5', 'sleep', 'sleep_median5', 'sleep_median10'], axis=1)\n",
    "print(test_predictors.columns)"
   ]
  }
 ],
 "metadata": {
  "kernelspec": {
   "display_name": "Python 3",
   "language": "python",
   "name": "python3"
  },
  "language_info": {
   "codemirror_mode": {
    "name": "ipython",
    "version": 3
   },
   "file_extension": ".py",
   "mimetype": "text/x-python",
   "name": "python",
   "nbconvert_exporter": "python",
   "pygments_lexer": "ipython3",
   "version": "3.10.6"
  },
  "orig_nbformat": 4
 },
 "nbformat": 4,
 "nbformat_minor": 2
}
