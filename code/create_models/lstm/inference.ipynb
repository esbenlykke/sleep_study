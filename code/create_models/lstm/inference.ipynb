{
 "cells": [
  {
   "cell_type": "code",
   "execution_count": 3,
   "metadata": {},
   "outputs": [],
   "source": [
    "import torch\n",
    "import torch.nn as nn\n",
    "import pandas as pd\n",
    "# Prediction script (load the model)\n",
    "from model import biLSTM"
   ]
  },
  {
   "cell_type": "code",
   "execution_count": 4,
   "metadata": {},
   "outputs": [
    {
     "data": {
      "text/plain": [
       "biLSTM(\n",
       "  (lstm): LSTM(68, 128, num_layers=2, batch_first=True, bidirectional=True)\n",
       "  (fc): Linear(in_features=256, out_features=5, bias=True)\n",
       ")"
      ]
     },
     "execution_count": 4,
     "metadata": {},
     "output_type": "execute_result"
    }
   ],
   "source": [
    "# Load the trained model\n",
    "model = torch.load(\"/home/esbenlykke/projects/sleep_study/models/lstm_model.pt\")\n",
    "model.eval()"
   ]
  },
  {
   "cell_type": "code",
   "execution_count": 19,
   "metadata": {},
   "outputs": [],
   "source": [
    "# Preprocess the input DataFrame\n",
    "# Assume 'df' is your input DataFrame with the same format as the training data\n",
    "# Perform any necessary preprocessing steps on 'df' (e.g., normalization, encoding, etc.)\n",
    "# Convert the preprocessed DataFrame to a PyTorch tensor\n",
    "inputs = torch.tensor(df.values, dtype=torch.float)"
   ]
  },
  {
   "cell_type": "code",
   "execution_count": 21,
   "metadata": {},
   "outputs": [
    {
     "name": "stdout",
     "output_type": "stream",
     "text": [
      "        month   day   age       incl      theta         x         y         z   \n",
      "0         2.0  17.0   6.0  15.798665  -5.310628 -0.166543  0.736582 -0.088525  \\\n",
      "1         2.0  17.0   6.0  20.806454  -8.427656 -0.354135  0.928025 -0.206452   \n",
      "2         2.0  17.0   6.0  15.256819  -0.600693 -0.268185  0.905933 -0.058268   \n",
      "3         2.0  17.0   6.0   7.902555  -2.452577 -0.064138  0.966516  0.006280   \n",
      "4         2.0  17.0   6.0   5.761677   5.070190 -0.092652  0.922352  0.120019   \n",
      "...       ...   ...   ...        ...        ...       ...       ...       ...   \n",
      "411961    9.0  30.0  12.0  89.056083 -74.467833  0.235170  0.027814 -0.903933   \n",
      "411962    9.0  30.0  12.0  88.180862 -81.183678  0.214830  0.017471 -0.983853   \n",
      "411963    9.0  30.0  12.0  84.408979 -83.088712  0.036370  0.075359 -1.005727   \n",
      "411964    9.0  30.0  12.0  83.469627 -83.435066 -0.010326  0.138011 -1.000573   \n",
      "411965    9.0  30.0  12.0  88.157199 -80.687190  0.135086 -0.003870 -0.985143   \n",
      "\n",
      "             temp    x_mean  ...  z_sd_lead_5min  z_sd_lead_30min  time_day   \n",
      "0       29.885731 -0.234994  ...        0.113797         0.507397  0.000150  \\\n",
      "1       30.471726 -0.309378  ...        0.146960         0.209449  0.000602   \n",
      "2       30.471726 -0.246230  ...        0.058443         0.389224  0.001053   \n",
      "3       30.471726 -0.107140  ...        0.095613         0.297843  0.001505   \n",
      "4       30.471726 -0.027531  ...        0.191604         0.412440  0.001956   \n",
      "...           ...       ...  ...             ...              ...       ...   \n",
      "411961  32.229710  0.228229  ...        0.009534         0.056694  0.998487   \n",
      "411962  32.229710  0.132464  ...        0.001792         0.056694  0.998836   \n",
      "411963  32.229710  0.041031  ...        0.026192         0.056694  0.999185   \n",
      "411964  32.229710 -0.011215  ...        0.039258         0.056694  0.999535   \n",
      "411965  32.229710  0.127592  ...        0.056694         0.056694  0.999884   \n",
      "\n",
      "        weekday  score  in_bed  in_bed_median5  sleep  sleep_median5   \n",
      "0           0.0    1.0     0.0             0.0    0.0            0.0  \\\n",
      "1           0.0    1.0     0.0             0.0    0.0            0.0   \n",
      "2           0.0    1.0     0.0             0.0    0.0            0.0   \n",
      "3           0.0    1.0     0.0             0.0    0.0            0.0   \n",
      "4           0.0    1.0     0.0             0.0    0.0            0.0   \n",
      "...         ...    ...     ...             ...    ...            ...   \n",
      "411961      0.0    1.0     0.0             0.0    0.0            0.0   \n",
      "411962      0.0    1.0     0.0             0.0    0.0            0.0   \n",
      "411963      0.0    1.0     0.0             0.0    0.0            0.0   \n",
      "411964      0.0    1.0     0.0             0.0    0.0            0.0   \n",
      "411965      0.0    1.0     0.0             0.0    0.0            0.0   \n",
      "\n",
      "        sleep_median10  \n",
      "0                  0.0  \n",
      "1                  0.0  \n",
      "2                  0.0  \n",
      "3                  0.0  \n",
      "4                  0.0  \n",
      "...                ...  \n",
      "411961             0.0  \n",
      "411962             0.0  \n",
      "411963             0.0  \n",
      "411964             0.0  \n",
      "411965             0.0  \n",
      "\n",
      "[411966 rows x 68 columns]\n"
     ]
    }
   ],
   "source": [
    "# Make predictions\n",
    "with torch.no_grad():\n",
    "    outputs = model(inputs)\n"
   ]
  },
  {
   "cell_type": "code",
   "execution_count": 23,
   "metadata": {},
   "outputs": [],
   "source": [
    "# Convert the predicted outputs to the desired format (e.g., classes, probabilities, etc.)\n",
    "# Perform any necessary post-processing steps on the outputs\n",
    "\n",
    "# Example: Convert the outputs to class labels\n",
    "predicted_classes = torch.argmax(outputs, dim=1)"
   ]
  },
  {
   "cell_type": "code",
   "execution_count": 28,
   "metadata": {},
   "outputs": [
    {
     "name": "stdout",
     "output_type": "stream",
     "text": [
      "torch.Size([41195, 20, 68])\n",
      "torch.Size([41195])\n",
      "torch.Size([122749, 20, 68])\n",
      "torch.Size([122749])\n"
     ]
    }
   ],
   "source": [
    "# Example: Convert the outputs to probabilities\n",
    "softmax = nn.Softmax(dim=1)\n",
    "probabilities = softmax(outputs)\n",
    "\n",
    "# Create a new DataFrame with the predicted results\n",
    "# Assume 'predictions_df' is a new DataFrame to store the predictions\n",
    "predictions_df = pd.DataFrame({\n",
    "    \"Predicted_Class\": predicted_classes.tolist(),\n",
    "    \"Probability_Class_0\": probabilities[:, 0].tolist(),\n",
    "    \"Probability_Class_1\": probabilities[:, 1].tolist(),\n",
    "    # Add more columns as needed\n",
    "})\n",
    "\n",
    "# Use the predictions for further analysis or save them to a file\n",
    "predictions_df.to_csv(\"predictions.csv\", index=False)"
   ]
  }
 ],
 "metadata": {
  "kernelspec": {
   "display_name": "Python 3",
   "language": "python",
   "name": "python3"
  },
  "language_info": {
   "codemirror_mode": {
    "name": "ipython",
    "version": 3
   },
   "file_extension": ".py",
   "mimetype": "text/x-python",
   "name": "python",
   "nbconvert_exporter": "python",
   "pygments_lexer": "ipython3",
   "version": "3.10.6"
  },
  "orig_nbformat": 4
 },
 "nbformat": 4,
 "nbformat_minor": 2
}
